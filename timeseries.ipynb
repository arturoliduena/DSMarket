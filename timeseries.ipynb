{
  "cells": [
    {
      "cell_type": "code",
      "execution_count": 1,
      "metadata": {
        "id": "3o8sbmsa8w2c"
      },
      "outputs": [],
      "source": [
        "# import the basic libraries we will use in this kernel\n",
        "import os\n",
        "import numpy as np\n",
        "import pandas as pd\n",
        "import pickle\n",
        "\n",
        "import time\n",
        "import datetime\n",
        "from datetime import datetime\n",
        "import calendar\n",
        "\n",
        "from sklearn import metrics\n",
        "from math import sqrt\n",
        "\n",
        "import matplotlib\n",
        "import matplotlib.pyplot as plt\n",
        "%matplotlib inline\n",
        "\n",
        "from string import punctuation\n",
        "\n",
        "from xgboost import XGBRegressor\n",
        "from xgboost import plot_importance\n",
        "\n",
        "from sklearn.preprocessing import LabelEncoder\n",
        "\n",
        "import itertools\n",
        "import warnings\n",
        "\n",
        "warnings.filterwarnings(\"ignore\") # specify to ignore warning messages\n",
        "\n",
        "# python core library for machine learning and data science\n",
        "from sklearn.pipeline import Pipeline\n",
        "from sklearn.preprocessing import StandardScaler, MinMaxScaler\n",
        "from sklearn.base import BaseEstimator, TransformerMixin\n",
        "from sklearn.impute import KNNImputer, SimpleImputer\n",
        "from sklearn.cluster import KMeans\n",
        "\n",
        "RANDOM_STATE = 42"
      ]
    },
    {
      "cell_type": "code",
      "execution_count": 2,
      "metadata": {
        "id": "mXc_tSYO99qf"
      },
      "outputs": [],
      "source": [
        "df_weekly_items_sales = pd.read_csv('./datasets/weekly_items_sales.csv', index_col=0)"
      ]
    },
    {
      "cell_type": "code",
      "execution_count": 3,
      "metadata": {
        "id": "E0DoL_bl-DEH"
      },
      "outputs": [],
      "source": [
        "# specify the format since otherwise it might give some problems\n",
        "df_weekly_items_sales[\"date\"] = pd.to_datetime(df_weekly_items_sales[\"date\"], format = \"%Y-%m-%d\")\n",
        "df_weekly_items_sales.drop('sell_price', axis=1, inplace=True)\n",
        "df_weekly_items_sales.rename(columns={'sell_price_imputed': 'sell_price'}, inplace=True)"
      ]
    },
    {
      "cell_type": "code",
      "execution_count": 4,
      "metadata": {
        "colab": {
          "base_uri": "https://localhost:8080/"
        },
        "id": "FAPZjdY8_FMu",
        "outputId": "617f94d5-166c-4c70-aae9-19b13a6b2e1b"
      },
      "outputs": [
        {
          "data": {
            "text/plain": [
              "id            0\n",
              "item          0\n",
              "category      0\n",
              "department    0\n",
              "store         0\n",
              "store_code    0\n",
              "region        0\n",
              "date          0\n",
              "quantity      0\n",
              "event         0\n",
              "sell_price    0\n",
              "dtype: int64"
            ]
          },
          "execution_count": 4,
          "metadata": {},
          "output_type": "execute_result"
        }
      ],
      "source": [
        "df_weekly_items_sales.isnull().sum()"
      ]
    },
    {
      "cell_type": "code",
      "execution_count": 5,
      "metadata": {
        "colab": {
          "base_uri": "https://localhost:8080/",
          "height": 206
        },
        "id": "bTAA8tnw_JwG",
        "outputId": "37984520-208d-430d-97f2-9f522a518084"
      },
      "outputs": [
        {
          "data": {
            "text/html": [
              "<div>\n",
              "<style scoped>\n",
              "    .dataframe tbody tr th:only-of-type {\n",
              "        vertical-align: middle;\n",
              "    }\n",
              "\n",
              "    .dataframe tbody tr th {\n",
              "        vertical-align: top;\n",
              "    }\n",
              "\n",
              "    .dataframe thead th {\n",
              "        text-align: right;\n",
              "    }\n",
              "</style>\n",
              "<table border=\"1\" class=\"dataframe\">\n",
              "  <thead>\n",
              "    <tr style=\"text-align: right;\">\n",
              "      <th></th>\n",
              "      <th>id</th>\n",
              "      <th>item</th>\n",
              "      <th>category</th>\n",
              "      <th>department</th>\n",
              "      <th>store</th>\n",
              "      <th>store_code</th>\n",
              "      <th>region</th>\n",
              "      <th>date</th>\n",
              "      <th>quantity</th>\n",
              "      <th>event</th>\n",
              "      <th>sell_price</th>\n",
              "    </tr>\n",
              "  </thead>\n",
              "  <tbody>\n",
              "    <tr>\n",
              "      <th>0</th>\n",
              "      <td>ACCESORIES_1_001_BOS_1</td>\n",
              "      <td>ACCESORIES_1_001</td>\n",
              "      <td>ACCESORIES</td>\n",
              "      <td>ACCESORIES_1</td>\n",
              "      <td>South_End</td>\n",
              "      <td>BOS_1</td>\n",
              "      <td>Boston</td>\n",
              "      <td>2011-01-30</td>\n",
              "      <td>0</td>\n",
              "      <td>0</td>\n",
              "      <td>12.7414</td>\n",
              "    </tr>\n",
              "    <tr>\n",
              "      <th>1</th>\n",
              "      <td>ACCESORIES_1_001_BOS_1</td>\n",
              "      <td>ACCESORIES_1_001</td>\n",
              "      <td>ACCESORIES</td>\n",
              "      <td>ACCESORIES_1</td>\n",
              "      <td>South_End</td>\n",
              "      <td>BOS_1</td>\n",
              "      <td>Boston</td>\n",
              "      <td>2011-02-06</td>\n",
              "      <td>0</td>\n",
              "      <td>1</td>\n",
              "      <td>12.7414</td>\n",
              "    </tr>\n",
              "    <tr>\n",
              "      <th>2</th>\n",
              "      <td>ACCESORIES_1_001_BOS_1</td>\n",
              "      <td>ACCESORIES_1_001</td>\n",
              "      <td>ACCESORIES</td>\n",
              "      <td>ACCESORIES_1</td>\n",
              "      <td>South_End</td>\n",
              "      <td>BOS_1</td>\n",
              "      <td>Boston</td>\n",
              "      <td>2011-02-13</td>\n",
              "      <td>0</td>\n",
              "      <td>0</td>\n",
              "      <td>12.7414</td>\n",
              "    </tr>\n",
              "    <tr>\n",
              "      <th>3</th>\n",
              "      <td>ACCESORIES_1_001_BOS_1</td>\n",
              "      <td>ACCESORIES_1_001</td>\n",
              "      <td>ACCESORIES</td>\n",
              "      <td>ACCESORIES_1</td>\n",
              "      <td>South_End</td>\n",
              "      <td>BOS_1</td>\n",
              "      <td>Boston</td>\n",
              "      <td>2011-02-20</td>\n",
              "      <td>0</td>\n",
              "      <td>0</td>\n",
              "      <td>12.7414</td>\n",
              "    </tr>\n",
              "    <tr>\n",
              "      <th>4</th>\n",
              "      <td>ACCESORIES_1_001_BOS_1</td>\n",
              "      <td>ACCESORIES_1_001</td>\n",
              "      <td>ACCESORIES</td>\n",
              "      <td>ACCESORIES_1</td>\n",
              "      <td>South_End</td>\n",
              "      <td>BOS_1</td>\n",
              "      <td>Boston</td>\n",
              "      <td>2011-02-27</td>\n",
              "      <td>0</td>\n",
              "      <td>0</td>\n",
              "      <td>12.7414</td>\n",
              "    </tr>\n",
              "  </tbody>\n",
              "</table>\n",
              "</div>"
            ],
            "text/plain": [
              "                       id              item    category    department  \\\n",
              "0  ACCESORIES_1_001_BOS_1  ACCESORIES_1_001  ACCESORIES  ACCESORIES_1   \n",
              "1  ACCESORIES_1_001_BOS_1  ACCESORIES_1_001  ACCESORIES  ACCESORIES_1   \n",
              "2  ACCESORIES_1_001_BOS_1  ACCESORIES_1_001  ACCESORIES  ACCESORIES_1   \n",
              "3  ACCESORIES_1_001_BOS_1  ACCESORIES_1_001  ACCESORIES  ACCESORIES_1   \n",
              "4  ACCESORIES_1_001_BOS_1  ACCESORIES_1_001  ACCESORIES  ACCESORIES_1   \n",
              "\n",
              "       store store_code  region       date  quantity  event  sell_price  \n",
              "0  South_End      BOS_1  Boston 2011-01-30         0      0     12.7414  \n",
              "1  South_End      BOS_1  Boston 2011-02-06         0      1     12.7414  \n",
              "2  South_End      BOS_1  Boston 2011-02-13         0      0     12.7414  \n",
              "3  South_End      BOS_1  Boston 2011-02-20         0      0     12.7414  \n",
              "4  South_End      BOS_1  Boston 2011-02-27         0      0     12.7414  "
            ]
          },
          "execution_count": 5,
          "metadata": {},
          "output_type": "execute_result"
        }
      ],
      "source": [
        "df_weekly_items_sales.head(5)"
      ]
    },
    {
      "cell_type": "code",
      "execution_count": 6,
      "metadata": {},
      "outputs": [
        {
          "data": {
            "text/plain": [
              "(8354260, 11)"
            ]
          },
          "execution_count": 6,
          "metadata": {},
          "output_type": "execute_result"
        }
      ],
      "source": [
        "df_weekly_items_sales.shape"
      ]
    },
    {
      "cell_type": "code",
      "execution_count": 7,
      "metadata": {},
      "outputs": [],
      "source": [
        "df_weekly_items_sales[\"revenue\"] = df_weekly_items_sales[\"quantity\"] * df_weekly_items_sales[\"sell_price\"]"
      ]
    },
    {
      "cell_type": "markdown",
      "metadata": {
        "id": "stpYRwpeLr-b"
      },
      "source": [
        "# Resample por meses\n"
      ]
    },
    {
      "cell_type": "code",
      "execution_count": 8,
      "metadata": {},
      "outputs": [
        {
          "name": "stdout",
          "output_type": "stream",
          "text": [
            "Total time in minutes to preprocess took 4.200923399130503\n"
          ]
        },
        {
          "data": {
            "text/html": [
              "<div>\n",
              "<style scoped>\n",
              "    .dataframe tbody tr th:only-of-type {\n",
              "        vertical-align: middle;\n",
              "    }\n",
              "\n",
              "    .dataframe tbody tr th {\n",
              "        vertical-align: top;\n",
              "    }\n",
              "\n",
              "    .dataframe thead th {\n",
              "        text-align: right;\n",
              "    }\n",
              "</style>\n",
              "<table border=\"1\" class=\"dataframe\">\n",
              "  <thead>\n",
              "    <tr style=\"text-align: right;\">\n",
              "      <th></th>\n",
              "      <th>id</th>\n",
              "      <th>date</th>\n",
              "      <th>quantity</th>\n",
              "      <th>sell_price</th>\n",
              "      <th>revenue</th>\n",
              "    </tr>\n",
              "  </thead>\n",
              "  <tbody>\n",
              "    <tr>\n",
              "      <th>0</th>\n",
              "      <td>ACCESORIES_1_001_BOS_1</td>\n",
              "      <td>2011-01-31</td>\n",
              "      <td>0</td>\n",
              "      <td>12.7414</td>\n",
              "      <td>0.0</td>\n",
              "    </tr>\n",
              "    <tr>\n",
              "      <th>1</th>\n",
              "      <td>ACCESORIES_1_001_BOS_1</td>\n",
              "      <td>2011-02-28</td>\n",
              "      <td>0</td>\n",
              "      <td>12.7414</td>\n",
              "      <td>0.0</td>\n",
              "    </tr>\n",
              "    <tr>\n",
              "      <th>2</th>\n",
              "      <td>ACCESORIES_1_001_BOS_1</td>\n",
              "      <td>2011-03-31</td>\n",
              "      <td>0</td>\n",
              "      <td>12.7414</td>\n",
              "      <td>0.0</td>\n",
              "    </tr>\n",
              "    <tr>\n",
              "      <th>3</th>\n",
              "      <td>ACCESORIES_1_001_BOS_1</td>\n",
              "      <td>2011-04-30</td>\n",
              "      <td>0</td>\n",
              "      <td>12.7414</td>\n",
              "      <td>0.0</td>\n",
              "    </tr>\n",
              "    <tr>\n",
              "      <th>4</th>\n",
              "      <td>ACCESORIES_1_001_BOS_1</td>\n",
              "      <td>2011-05-31</td>\n",
              "      <td>0</td>\n",
              "      <td>12.7414</td>\n",
              "      <td>0.0</td>\n",
              "    </tr>\n",
              "  </tbody>\n",
              "</table>\n",
              "</div>"
            ],
            "text/plain": [
              "                       id       date  quantity  sell_price  revenue\n",
              "0  ACCESORIES_1_001_BOS_1 2011-01-31         0     12.7414      0.0\n",
              "1  ACCESORIES_1_001_BOS_1 2011-02-28         0     12.7414      0.0\n",
              "2  ACCESORIES_1_001_BOS_1 2011-03-31         0     12.7414      0.0\n",
              "3  ACCESORIES_1_001_BOS_1 2011-04-30         0     12.7414      0.0\n",
              "4  ACCESORIES_1_001_BOS_1 2011-05-31         0     12.7414      0.0"
            ]
          },
          "execution_count": 8,
          "metadata": {},
          "output_type": "execute_result"
        }
      ],
      "source": [
        "st = time.time()\n",
        "\n",
        "gb_df = df_weekly_items_sales.set_index(\"date\")\n",
        "\n",
        "#group by id\n",
        "gb_df= gb_df.groupby(['id'])\n",
        "\n",
        "# # resample the sales to a weekly basis\n",
        "gb_df = gb_df.resample(\"M\").agg({'quantity':np.sum, \"sell_price\":np.mean, \"revenue\":np.sum})\n",
        "\n",
        "# # convert to dataframe and save the full dataframe\n",
        "gb_df.reset_index(inplace = True)\n",
        "\n",
        "et = time.time()\n",
        "\n",
        "print(\"Total time in minutes to preprocess took {}\".format((et - st)/60))\n",
        "\n",
        "gb_df.head(5)"
      ]
    },
    {
      "cell_type": "code",
      "execution_count": 9,
      "metadata": {
        "colab": {
          "base_uri": "https://localhost:8080/"
        },
        "id": "8Z2A9I4i_kig",
        "outputId": "c3f635d6-2bef-4da7-fc3a-6e1233f83e87"
      },
      "outputs": [
        {
          "name": "stdout",
          "output_type": "stream",
          "text": [
            "2011-01-31 00:00:00\n",
            "2016-04-30 00:00:00\n"
          ]
        }
      ],
      "source": [
        "min_date = gb_df[\"date\"].min()\n",
        "max_date_sales = gb_df[\"date\"].max()\n",
        "\n",
        "print(min_date)\n",
        "print(max_date_sales)"
      ]
    },
    {
      "cell_type": "code",
      "execution_count": 10,
      "metadata": {},
      "outputs": [
        {
          "data": {
            "text/plain": [
              "64"
            ]
          },
          "execution_count": 10,
          "metadata": {},
          "output_type": "execute_result"
        }
      ],
      "source": [
        "gb_df['date'].nunique()"
      ]
    },
    {
      "cell_type": "code",
      "execution_count": 11,
      "metadata": {
        "id": "Vt8-uq0a_vFm"
      },
      "outputs": [],
      "source": [
        "max_date_test = datetime(2016,5,31)"
      ]
    },
    {
      "cell_type": "code",
      "execution_count": 12,
      "metadata": {
        "colab": {
          "base_uri": "https://localhost:8080/"
        },
        "id": "y3D2KXq0Clb2",
        "outputId": "083d3844-be43-4cfa-9269-a1e6e1b2c55b"
      },
      "outputs": [
        {
          "name": "stdout",
          "output_type": "stream",
          "text": [
            "We have a total of 65 months\n"
          ]
        },
        {
          "data": {
            "text/plain": [
              "DatetimeIndex(['2011-01-31', '2011-02-28', '2011-03-31', '2011-04-30',\n",
              "               '2011-05-31', '2011-06-30', '2011-07-31', '2011-08-31',\n",
              "               '2011-09-30', '2011-10-31', '2011-11-30', '2011-12-31',\n",
              "               '2012-01-31', '2012-02-29', '2012-03-31', '2012-04-30',\n",
              "               '2012-05-31', '2012-06-30', '2012-07-31', '2012-08-31',\n",
              "               '2012-09-30', '2012-10-31', '2012-11-30', '2012-12-31',\n",
              "               '2013-01-31', '2013-02-28', '2013-03-31', '2013-04-30',\n",
              "               '2013-05-31', '2013-06-30', '2013-07-31', '2013-08-31',\n",
              "               '2013-09-30', '2013-10-31', '2013-11-30', '2013-12-31',\n",
              "               '2014-01-31', '2014-02-28', '2014-03-31', '2014-04-30',\n",
              "               '2014-05-31', '2014-06-30', '2014-07-31', '2014-08-31',\n",
              "               '2014-09-30', '2014-10-31', '2014-11-30', '2014-12-31',\n",
              "               '2015-01-31', '2015-02-28', '2015-03-31', '2015-04-30',\n",
              "               '2015-05-31', '2015-06-30', '2015-07-31', '2015-08-31',\n",
              "               '2015-09-30', '2015-10-31', '2015-11-30', '2015-12-31',\n",
              "               '2016-01-31', '2016-02-29', '2016-03-31', '2016-04-30',\n",
              "               '2016-05-31'],\n",
              "              dtype='datetime64[ns]', freq='M')"
            ]
          },
          "execution_count": 12,
          "metadata": {},
          "output_type": "execute_result"
        }
      ],
      "source": [
        "date_range = pd.date_range(min_date, max_date_test, freq = \"M\")\n",
        "print(\"We have a total of {} months\".format(len(date_range)))\n",
        "date_range"
      ]
    },
    {
      "cell_type": "code",
      "execution_count": 13,
      "metadata": {
        "id": "JGtyVqkcC3Uo"
      },
      "outputs": [
        {
          "data": {
            "text/plain": [
              "30490"
            ]
          },
          "execution_count": 13,
          "metadata": {},
          "output_type": "execute_result"
        }
      ],
      "source": [
        "unique_id = gb_df[\"id\"].unique()\n",
        "len(unique_id)"
      ]
    },
    {
      "cell_type": "code",
      "execution_count": 14,
      "metadata": {
        "colab": {
          "base_uri": "https://localhost:8080/"
        },
        "id": "EGbr3TGbJ3mc",
        "outputId": "9fa153fd-74fa-488c-ba86-e9386032065b"
      },
      "outputs": [
        {
          "data": {
            "text/plain": [
              "1981850"
            ]
          },
          "execution_count": 14,
          "metadata": {},
          "output_type": "execute_result"
        }
      ],
      "source": [
        "cartesian_product = pd.MultiIndex.from_product([date_range, unique_id], names = [\"date\", \"id\"])\n",
        "len(cartesian_product)"
      ]
    },
    {
      "cell_type": "code",
      "execution_count": 15,
      "metadata": {},
      "outputs": [
        {
          "name": "stdout",
          "output_type": "stream",
          "text": [
            "30490\n",
            "1.0\n"
          ]
        }
      ],
      "source": [
        "print(len(cartesian_product) - gb_df.shape[0])\n",
        "print((len(cartesian_product) - gb_df.shape[0]) / 30490)"
      ]
    },
    {
      "cell_type": "markdown",
      "metadata": {
        "id": "MoPxj1dKpT5n"
      },
      "source": [
        "# Join Cartesian_Product & gb_df\n"
      ]
    },
    {
      "cell_type": "code",
      "execution_count": 16,
      "metadata": {
        "colab": {
          "base_uri": "https://localhost:8080/",
          "height": 206
        },
        "id": "IllDvBd9WvXq",
        "outputId": "43428457-d0b1-47a6-8606-99c97488746e"
      },
      "outputs": [
        {
          "data": {
            "text/html": [
              "<div>\n",
              "<style scoped>\n",
              "    .dataframe tbody tr th:only-of-type {\n",
              "        vertical-align: middle;\n",
              "    }\n",
              "\n",
              "    .dataframe tbody tr th {\n",
              "        vertical-align: top;\n",
              "    }\n",
              "\n",
              "    .dataframe thead th {\n",
              "        text-align: right;\n",
              "    }\n",
              "</style>\n",
              "<table border=\"1\" class=\"dataframe\">\n",
              "  <thead>\n",
              "    <tr style=\"text-align: right;\">\n",
              "      <th></th>\n",
              "      <th>date</th>\n",
              "      <th>id</th>\n",
              "    </tr>\n",
              "  </thead>\n",
              "  <tbody>\n",
              "    <tr>\n",
              "      <th>0</th>\n",
              "      <td>2011-01-31</td>\n",
              "      <td>ACCESORIES_1_001_BOS_1</td>\n",
              "    </tr>\n",
              "    <tr>\n",
              "      <th>1</th>\n",
              "      <td>2011-01-31</td>\n",
              "      <td>ACCESORIES_1_001_BOS_2</td>\n",
              "    </tr>\n",
              "    <tr>\n",
              "      <th>2</th>\n",
              "      <td>2011-01-31</td>\n",
              "      <td>ACCESORIES_1_001_BOS_3</td>\n",
              "    </tr>\n",
              "    <tr>\n",
              "      <th>3</th>\n",
              "      <td>2011-01-31</td>\n",
              "      <td>ACCESORIES_1_001_NYC_1</td>\n",
              "    </tr>\n",
              "    <tr>\n",
              "      <th>4</th>\n",
              "      <td>2011-01-31</td>\n",
              "      <td>ACCESORIES_1_001_NYC_2</td>\n",
              "    </tr>\n",
              "  </tbody>\n",
              "</table>\n",
              "</div>"
            ],
            "text/plain": [
              "        date                      id\n",
              "0 2011-01-31  ACCESORIES_1_001_BOS_1\n",
              "1 2011-01-31  ACCESORIES_1_001_BOS_2\n",
              "2 2011-01-31  ACCESORIES_1_001_BOS_3\n",
              "3 2011-01-31  ACCESORIES_1_001_NYC_1\n",
              "4 2011-01-31  ACCESORIES_1_001_NYC_2"
            ]
          },
          "execution_count": 16,
          "metadata": {},
          "output_type": "execute_result"
        }
      ],
      "source": [
        "full_df = pd.DataFrame(index = cartesian_product).reset_index()\n",
        "\n",
        "full_df.head(5)"
      ]
    },
    {
      "cell_type": "code",
      "execution_count": 17,
      "metadata": {},
      "outputs": [
        {
          "name": "stdout",
          "output_type": "stream",
          "text": [
            "(1981850, 2)\n",
            "(1981850, 5)\n"
          ]
        }
      ],
      "source": [
        "print(full_df.shape)\n",
        "\n",
        "full_df = pd.merge(\n",
        "    left = full_df,\n",
        "    right = gb_df,\n",
        "    on = [\"date\", \"id\"],\n",
        "    how = \"left\"\n",
        ")\n",
        "\n",
        "print(full_df.shape)"
      ]
    },
    {
      "cell_type": "code",
      "execution_count": 18,
      "metadata": {},
      "outputs": [
        {
          "data": {
            "text/html": [
              "<div>\n",
              "<style scoped>\n",
              "    .dataframe tbody tr th:only-of-type {\n",
              "        vertical-align: middle;\n",
              "    }\n",
              "\n",
              "    .dataframe tbody tr th {\n",
              "        vertical-align: top;\n",
              "    }\n",
              "\n",
              "    .dataframe thead th {\n",
              "        text-align: right;\n",
              "    }\n",
              "</style>\n",
              "<table border=\"1\" class=\"dataframe\">\n",
              "  <thead>\n",
              "    <tr style=\"text-align: right;\">\n",
              "      <th></th>\n",
              "      <th>date</th>\n",
              "      <th>id</th>\n",
              "      <th>quantity</th>\n",
              "      <th>sell_price</th>\n",
              "      <th>revenue</th>\n",
              "    </tr>\n",
              "  </thead>\n",
              "  <tbody>\n",
              "    <tr>\n",
              "      <th>0</th>\n",
              "      <td>2011-01-31</td>\n",
              "      <td>ACCESORIES_1_001_BOS_1</td>\n",
              "      <td>0.0</td>\n",
              "      <td>12.7414</td>\n",
              "      <td>0.0</td>\n",
              "    </tr>\n",
              "    <tr>\n",
              "      <th>1</th>\n",
              "      <td>2011-01-31</td>\n",
              "      <td>ACCESORIES_1_001_BOS_2</td>\n",
              "      <td>0.0</td>\n",
              "      <td>12.7414</td>\n",
              "      <td>0.0</td>\n",
              "    </tr>\n",
              "    <tr>\n",
              "      <th>2</th>\n",
              "      <td>2011-01-31</td>\n",
              "      <td>ACCESORIES_1_001_BOS_3</td>\n",
              "      <td>0.0</td>\n",
              "      <td>11.4646</td>\n",
              "      <td>0.0</td>\n",
              "    </tr>\n",
              "    <tr>\n",
              "      <th>3</th>\n",
              "      <td>2011-01-31</td>\n",
              "      <td>ACCESORIES_1_001_NYC_1</td>\n",
              "      <td>0.0</td>\n",
              "      <td>12.7414</td>\n",
              "      <td>0.0</td>\n",
              "    </tr>\n",
              "    <tr>\n",
              "      <th>4</th>\n",
              "      <td>2011-01-31</td>\n",
              "      <td>ACCESORIES_1_001_NYC_2</td>\n",
              "      <td>0.0</td>\n",
              "      <td>10.9858</td>\n",
              "      <td>0.0</td>\n",
              "    </tr>\n",
              "    <tr>\n",
              "      <th>...</th>\n",
              "      <td>...</td>\n",
              "      <td>...</td>\n",
              "      <td>...</td>\n",
              "      <td>...</td>\n",
              "      <td>...</td>\n",
              "    </tr>\n",
              "    <tr>\n",
              "      <th>1981845</th>\n",
              "      <td>2016-05-31</td>\n",
              "      <td>SUPERMARKET_3_827_NYC_3</td>\n",
              "      <td>NaN</td>\n",
              "      <td>NaN</td>\n",
              "      <td>NaN</td>\n",
              "    </tr>\n",
              "    <tr>\n",
              "      <th>1981846</th>\n",
              "      <td>2016-05-31</td>\n",
              "      <td>SUPERMARKET_3_827_NYC_4</td>\n",
              "      <td>NaN</td>\n",
              "      <td>NaN</td>\n",
              "      <td>NaN</td>\n",
              "    </tr>\n",
              "    <tr>\n",
              "      <th>1981847</th>\n",
              "      <td>2016-05-31</td>\n",
              "      <td>SUPERMARKET_3_827_PHI_1</td>\n",
              "      <td>NaN</td>\n",
              "      <td>NaN</td>\n",
              "      <td>NaN</td>\n",
              "    </tr>\n",
              "    <tr>\n",
              "      <th>1981848</th>\n",
              "      <td>2016-05-31</td>\n",
              "      <td>SUPERMARKET_3_827_PHI_2</td>\n",
              "      <td>NaN</td>\n",
              "      <td>NaN</td>\n",
              "      <td>NaN</td>\n",
              "    </tr>\n",
              "    <tr>\n",
              "      <th>1981849</th>\n",
              "      <td>2016-05-31</td>\n",
              "      <td>SUPERMARKET_3_827_PHI_3</td>\n",
              "      <td>NaN</td>\n",
              "      <td>NaN</td>\n",
              "      <td>NaN</td>\n",
              "    </tr>\n",
              "  </tbody>\n",
              "</table>\n",
              "<p>1981850 rows × 5 columns</p>\n",
              "</div>"
            ],
            "text/plain": [
              "              date                       id  quantity  sell_price  revenue\n",
              "0       2011-01-31   ACCESORIES_1_001_BOS_1       0.0     12.7414      0.0\n",
              "1       2011-01-31   ACCESORIES_1_001_BOS_2       0.0     12.7414      0.0\n",
              "2       2011-01-31   ACCESORIES_1_001_BOS_3       0.0     11.4646      0.0\n",
              "3       2011-01-31   ACCESORIES_1_001_NYC_1       0.0     12.7414      0.0\n",
              "4       2011-01-31   ACCESORIES_1_001_NYC_2       0.0     10.9858      0.0\n",
              "...            ...                      ...       ...         ...      ...\n",
              "1981845 2016-05-31  SUPERMARKET_3_827_NYC_3       NaN         NaN      NaN\n",
              "1981846 2016-05-31  SUPERMARKET_3_827_NYC_4       NaN         NaN      NaN\n",
              "1981847 2016-05-31  SUPERMARKET_3_827_PHI_1       NaN         NaN      NaN\n",
              "1981848 2016-05-31  SUPERMARKET_3_827_PHI_2       NaN         NaN      NaN\n",
              "1981849 2016-05-31  SUPERMARKET_3_827_PHI_3       NaN         NaN      NaN\n",
              "\n",
              "[1981850 rows x 5 columns]"
            ]
          },
          "execution_count": 18,
          "metadata": {},
          "output_type": "execute_result"
        }
      ],
      "source": [
        "full_df"
      ]
    },
    {
      "cell_type": "code",
      "execution_count": 19,
      "metadata": {
        "colab": {
          "base_uri": "https://localhost:8080/"
        },
        "id": "Jxgg9SKkqg5c",
        "outputId": "6db9c27d-9e8d-448f-bb2d-b9f5d9a1afc8"
      },
      "outputs": [
        {
          "data": {
            "text/plain": [
              "date              0\n",
              "id                0\n",
              "quantity      30490\n",
              "sell_price    30490\n",
              "revenue       30490\n",
              "dtype: int64"
            ]
          },
          "execution_count": 19,
          "metadata": {},
          "output_type": "execute_result"
        }
      ],
      "source": [
        "full_df.isnull().sum()"
      ]
    },
    {
      "cell_type": "code",
      "execution_count": 20,
      "metadata": {},
      "outputs": [
        {
          "data": {
            "text/html": [
              "<div>\n",
              "<style scoped>\n",
              "    .dataframe tbody tr th:only-of-type {\n",
              "        vertical-align: middle;\n",
              "    }\n",
              "\n",
              "    .dataframe tbody tr th {\n",
              "        vertical-align: top;\n",
              "    }\n",
              "\n",
              "    .dataframe thead th {\n",
              "        text-align: right;\n",
              "    }\n",
              "</style>\n",
              "<table border=\"1\" class=\"dataframe\">\n",
              "  <thead>\n",
              "    <tr style=\"text-align: right;\">\n",
              "      <th></th>\n",
              "      <th>date</th>\n",
              "      <th>id</th>\n",
              "      <th>quantity</th>\n",
              "      <th>sell_price</th>\n",
              "      <th>revenue</th>\n",
              "    </tr>\n",
              "  </thead>\n",
              "  <tbody>\n",
              "    <tr>\n",
              "      <th>1960245</th>\n",
              "      <td>2016-05-31</td>\n",
              "      <td>HOME_&amp;_GARDEN_1_330_NYC_3</td>\n",
              "      <td>NaN</td>\n",
              "      <td>NaN</td>\n",
              "      <td>NaN</td>\n",
              "    </tr>\n",
              "    <tr>\n",
              "      <th>1971230</th>\n",
              "      <td>2016-05-31</td>\n",
              "      <td>SUPERMARKET_2_161_BOS_1</td>\n",
              "      <td>NaN</td>\n",
              "      <td>NaN</td>\n",
              "      <td>NaN</td>\n",
              "    </tr>\n",
              "    <tr>\n",
              "      <th>1962756</th>\n",
              "      <td>2016-05-31</td>\n",
              "      <td>HOME_&amp;_GARDEN_2_043_NYC_4</td>\n",
              "      <td>NaN</td>\n",
              "      <td>NaN</td>\n",
              "      <td>NaN</td>\n",
              "    </tr>\n",
              "    <tr>\n",
              "      <th>1962851</th>\n",
              "      <td>2016-05-31</td>\n",
              "      <td>HOME_&amp;_GARDEN_2_053_BOS_2</td>\n",
              "      <td>NaN</td>\n",
              "      <td>NaN</td>\n",
              "      <td>NaN</td>\n",
              "    </tr>\n",
              "    <tr>\n",
              "      <th>1964538</th>\n",
              "      <td>2016-05-31</td>\n",
              "      <td>HOME_&amp;_GARDEN_2_222_PHI_2</td>\n",
              "      <td>NaN</td>\n",
              "      <td>NaN</td>\n",
              "      <td>NaN</td>\n",
              "    </tr>\n",
              "  </tbody>\n",
              "</table>\n",
              "</div>"
            ],
            "text/plain": [
              "              date                         id  quantity  sell_price  revenue\n",
              "1960245 2016-05-31  HOME_&_GARDEN_1_330_NYC_3       NaN         NaN      NaN\n",
              "1971230 2016-05-31    SUPERMARKET_2_161_BOS_1       NaN         NaN      NaN\n",
              "1962756 2016-05-31  HOME_&_GARDEN_2_043_NYC_4       NaN         NaN      NaN\n",
              "1962851 2016-05-31  HOME_&_GARDEN_2_053_BOS_2       NaN         NaN      NaN\n",
              "1964538 2016-05-31  HOME_&_GARDEN_2_222_PHI_2       NaN         NaN      NaN"
            ]
          },
          "execution_count": 20,
          "metadata": {},
          "output_type": "execute_result"
        }
      ],
      "source": [
        "full_df[full_df[\"sell_price\"].isnull()].sample(5)"
      ]
    },
    {
      "cell_type": "code",
      "execution_count": 21,
      "metadata": {
        "colab": {
          "base_uri": "https://localhost:8080/",
          "height": 1000
        },
        "id": "bbRQ0xK21SC7",
        "outputId": "1caa4be5-88a0-4be4-8869-0ae22df89b5a"
      },
      "outputs": [],
      "source": [
        "full_df[\"quantity\"].fillna(0, inplace = True)\n",
        "full_df[\"revenue\"].fillna(0, inplace = True)"
      ]
    },
    {
      "cell_type": "code",
      "execution_count": 22,
      "metadata": {},
      "outputs": [],
      "source": [
        "full_df[\"sell_price\"] = full_df.groupby(\"id\")[\"sell_price\"].apply(lambda series: series.backfill().ffill())"
      ]
    },
    {
      "cell_type": "code",
      "execution_count": 23,
      "metadata": {},
      "outputs": [
        {
          "data": {
            "text/plain": [
              "date          0\n",
              "id            0\n",
              "quantity      0\n",
              "sell_price    0\n",
              "revenue       0\n",
              "dtype: int64"
            ]
          },
          "execution_count": 23,
          "metadata": {},
          "output_type": "execute_result"
        }
      ],
      "source": [
        "full_df.isnull().sum()"
      ]
    },
    {
      "cell_type": "code",
      "execution_count": 24,
      "metadata": {
        "colab": {
          "base_uri": "https://localhost:8080/"
        },
        "id": "sv9DguLHi8vD",
        "outputId": "ea993b35-76be-44dc-c54d-eead5e5901a0"
      },
      "outputs": [
        {
          "name": "stdout",
          "output_type": "stream",
          "text": [
            "(8354260, 12)\n",
            "(30490, 7)\n"
          ]
        }
      ],
      "source": [
        "print(df_weekly_items_sales.shape)\n",
        "vars_to_add = df_weekly_items_sales[\n",
        "    [\"item\", \"category\", \"department\", \"store\", \"store_code\", \"region\",\"id\"]\n",
        "].drop_duplicates()\n",
        "print(vars_to_add.shape)"
      ]
    },
    {
      "cell_type": "code",
      "execution_count": 25,
      "metadata": {
        "colab": {
          "base_uri": "https://localhost:8080/"
        },
        "id": "1q38RwYylCv7",
        "outputId": "91195f9c-843f-4a22-9dd2-785343415491"
      },
      "outputs": [
        {
          "name": "stdout",
          "output_type": "stream",
          "text": [
            "(1981850, 5)\n",
            "(1981850, 11)\n"
          ]
        }
      ],
      "source": [
        "print(full_df.shape)\n",
        "full_df = pd.merge(\n",
        "    left = full_df,\n",
        "    right = vars_to_add,\n",
        "    on = [\"id\"],\n",
        "    how = \"left\"\n",
        ")\n",
        "print(full_df.shape)"
      ]
    },
    {
      "cell_type": "code",
      "execution_count": 26,
      "metadata": {},
      "outputs": [
        {
          "data": {
            "text/html": [
              "<div>\n",
              "<style scoped>\n",
              "    .dataframe tbody tr th:only-of-type {\n",
              "        vertical-align: middle;\n",
              "    }\n",
              "\n",
              "    .dataframe tbody tr th {\n",
              "        vertical-align: top;\n",
              "    }\n",
              "\n",
              "    .dataframe thead th {\n",
              "        text-align: right;\n",
              "    }\n",
              "</style>\n",
              "<table border=\"1\" class=\"dataframe\">\n",
              "  <thead>\n",
              "    <tr style=\"text-align: right;\">\n",
              "      <th></th>\n",
              "      <th>date</th>\n",
              "      <th>id</th>\n",
              "      <th>quantity</th>\n",
              "      <th>sell_price</th>\n",
              "      <th>revenue</th>\n",
              "      <th>item</th>\n",
              "      <th>category</th>\n",
              "      <th>department</th>\n",
              "      <th>store</th>\n",
              "      <th>store_code</th>\n",
              "      <th>region</th>\n",
              "    </tr>\n",
              "  </thead>\n",
              "  <tbody>\n",
              "    <tr>\n",
              "      <th>0</th>\n",
              "      <td>2011-01-31</td>\n",
              "      <td>ACCESORIES_1_001_BOS_1</td>\n",
              "      <td>0.0</td>\n",
              "      <td>12.7414</td>\n",
              "      <td>0.0</td>\n",
              "      <td>ACCESORIES_1_001</td>\n",
              "      <td>ACCESORIES</td>\n",
              "      <td>ACCESORIES_1</td>\n",
              "      <td>South_End</td>\n",
              "      <td>BOS_1</td>\n",
              "      <td>Boston</td>\n",
              "    </tr>\n",
              "    <tr>\n",
              "      <th>1</th>\n",
              "      <td>2011-01-31</td>\n",
              "      <td>ACCESORIES_1_001_BOS_2</td>\n",
              "      <td>0.0</td>\n",
              "      <td>12.7414</td>\n",
              "      <td>0.0</td>\n",
              "      <td>ACCESORIES_1_001</td>\n",
              "      <td>ACCESORIES</td>\n",
              "      <td>ACCESORIES_1</td>\n",
              "      <td>Roxbury</td>\n",
              "      <td>BOS_2</td>\n",
              "      <td>Boston</td>\n",
              "    </tr>\n",
              "    <tr>\n",
              "      <th>2</th>\n",
              "      <td>2011-01-31</td>\n",
              "      <td>ACCESORIES_1_001_BOS_3</td>\n",
              "      <td>0.0</td>\n",
              "      <td>11.4646</td>\n",
              "      <td>0.0</td>\n",
              "      <td>ACCESORIES_1_001</td>\n",
              "      <td>ACCESORIES</td>\n",
              "      <td>ACCESORIES_1</td>\n",
              "      <td>Back_Bay</td>\n",
              "      <td>BOS_3</td>\n",
              "      <td>Boston</td>\n",
              "    </tr>\n",
              "    <tr>\n",
              "      <th>3</th>\n",
              "      <td>2011-01-31</td>\n",
              "      <td>ACCESORIES_1_001_NYC_1</td>\n",
              "      <td>0.0</td>\n",
              "      <td>12.7414</td>\n",
              "      <td>0.0</td>\n",
              "      <td>ACCESORIES_1_001</td>\n",
              "      <td>ACCESORIES</td>\n",
              "      <td>ACCESORIES_1</td>\n",
              "      <td>Greenwich_Village</td>\n",
              "      <td>NYC_1</td>\n",
              "      <td>New York</td>\n",
              "    </tr>\n",
              "    <tr>\n",
              "      <th>4</th>\n",
              "      <td>2011-01-31</td>\n",
              "      <td>ACCESORIES_1_001_NYC_2</td>\n",
              "      <td>0.0</td>\n",
              "      <td>10.9858</td>\n",
              "      <td>0.0</td>\n",
              "      <td>ACCESORIES_1_001</td>\n",
              "      <td>ACCESORIES</td>\n",
              "      <td>ACCESORIES_1</td>\n",
              "      <td>Harlem</td>\n",
              "      <td>NYC_2</td>\n",
              "      <td>New York</td>\n",
              "    </tr>\n",
              "    <tr>\n",
              "      <th>...</th>\n",
              "      <td>...</td>\n",
              "      <td>...</td>\n",
              "      <td>...</td>\n",
              "      <td>...</td>\n",
              "      <td>...</td>\n",
              "      <td>...</td>\n",
              "      <td>...</td>\n",
              "      <td>...</td>\n",
              "      <td>...</td>\n",
              "      <td>...</td>\n",
              "      <td>...</td>\n",
              "    </tr>\n",
              "    <tr>\n",
              "      <th>1981845</th>\n",
              "      <td>2016-05-31</td>\n",
              "      <td>SUPERMARKET_3_827_NYC_3</td>\n",
              "      <td>0.0</td>\n",
              "      <td>1.2000</td>\n",
              "      <td>0.0</td>\n",
              "      <td>SUPERMARKET_3_827</td>\n",
              "      <td>SUPERMARKET</td>\n",
              "      <td>SUPERMARKET_3</td>\n",
              "      <td>Tribeca</td>\n",
              "      <td>NYC_3</td>\n",
              "      <td>New York</td>\n",
              "    </tr>\n",
              "    <tr>\n",
              "      <th>1981846</th>\n",
              "      <td>2016-05-31</td>\n",
              "      <td>SUPERMARKET_3_827_NYC_4</td>\n",
              "      <td>0.0</td>\n",
              "      <td>1.2000</td>\n",
              "      <td>0.0</td>\n",
              "      <td>SUPERMARKET_3_827</td>\n",
              "      <td>SUPERMARKET</td>\n",
              "      <td>SUPERMARKET_3</td>\n",
              "      <td>Brooklyn</td>\n",
              "      <td>NYC_4</td>\n",
              "      <td>New York</td>\n",
              "    </tr>\n",
              "    <tr>\n",
              "      <th>1981847</th>\n",
              "      <td>2016-05-31</td>\n",
              "      <td>SUPERMARKET_3_827_PHI_1</td>\n",
              "      <td>0.0</td>\n",
              "      <td>1.2000</td>\n",
              "      <td>0.0</td>\n",
              "      <td>SUPERMARKET_3_827</td>\n",
              "      <td>SUPERMARKET</td>\n",
              "      <td>SUPERMARKET_3</td>\n",
              "      <td>Midtown_Village</td>\n",
              "      <td>PHI_1</td>\n",
              "      <td>Philadelphia</td>\n",
              "    </tr>\n",
              "    <tr>\n",
              "      <th>1981848</th>\n",
              "      <td>2016-05-31</td>\n",
              "      <td>SUPERMARKET_3_827_PHI_2</td>\n",
              "      <td>0.0</td>\n",
              "      <td>1.2000</td>\n",
              "      <td>0.0</td>\n",
              "      <td>SUPERMARKET_3_827</td>\n",
              "      <td>SUPERMARKET</td>\n",
              "      <td>SUPERMARKET_3</td>\n",
              "      <td>Yorktown</td>\n",
              "      <td>PHI_2</td>\n",
              "      <td>Philadelphia</td>\n",
              "    </tr>\n",
              "    <tr>\n",
              "      <th>1981849</th>\n",
              "      <td>2016-05-31</td>\n",
              "      <td>SUPERMARKET_3_827_PHI_3</td>\n",
              "      <td>0.0</td>\n",
              "      <td>1.2000</td>\n",
              "      <td>0.0</td>\n",
              "      <td>SUPERMARKET_3_827</td>\n",
              "      <td>SUPERMARKET</td>\n",
              "      <td>SUPERMARKET_3</td>\n",
              "      <td>Queen_Village</td>\n",
              "      <td>PHI_3</td>\n",
              "      <td>Philadelphia</td>\n",
              "    </tr>\n",
              "  </tbody>\n",
              "</table>\n",
              "<p>1981850 rows × 11 columns</p>\n",
              "</div>"
            ],
            "text/plain": [
              "              date                       id  quantity  sell_price  revenue  \\\n",
              "0       2011-01-31   ACCESORIES_1_001_BOS_1       0.0     12.7414      0.0   \n",
              "1       2011-01-31   ACCESORIES_1_001_BOS_2       0.0     12.7414      0.0   \n",
              "2       2011-01-31   ACCESORIES_1_001_BOS_3       0.0     11.4646      0.0   \n",
              "3       2011-01-31   ACCESORIES_1_001_NYC_1       0.0     12.7414      0.0   \n",
              "4       2011-01-31   ACCESORIES_1_001_NYC_2       0.0     10.9858      0.0   \n",
              "...            ...                      ...       ...         ...      ...   \n",
              "1981845 2016-05-31  SUPERMARKET_3_827_NYC_3       0.0      1.2000      0.0   \n",
              "1981846 2016-05-31  SUPERMARKET_3_827_NYC_4       0.0      1.2000      0.0   \n",
              "1981847 2016-05-31  SUPERMARKET_3_827_PHI_1       0.0      1.2000      0.0   \n",
              "1981848 2016-05-31  SUPERMARKET_3_827_PHI_2       0.0      1.2000      0.0   \n",
              "1981849 2016-05-31  SUPERMARKET_3_827_PHI_3       0.0      1.2000      0.0   \n",
              "\n",
              "                      item     category     department              store  \\\n",
              "0         ACCESORIES_1_001   ACCESORIES   ACCESORIES_1          South_End   \n",
              "1         ACCESORIES_1_001   ACCESORIES   ACCESORIES_1            Roxbury   \n",
              "2         ACCESORIES_1_001   ACCESORIES   ACCESORIES_1           Back_Bay   \n",
              "3         ACCESORIES_1_001   ACCESORIES   ACCESORIES_1  Greenwich_Village   \n",
              "4         ACCESORIES_1_001   ACCESORIES   ACCESORIES_1             Harlem   \n",
              "...                    ...          ...            ...                ...   \n",
              "1981845  SUPERMARKET_3_827  SUPERMARKET  SUPERMARKET_3            Tribeca   \n",
              "1981846  SUPERMARKET_3_827  SUPERMARKET  SUPERMARKET_3           Brooklyn   \n",
              "1981847  SUPERMARKET_3_827  SUPERMARKET  SUPERMARKET_3    Midtown_Village   \n",
              "1981848  SUPERMARKET_3_827  SUPERMARKET  SUPERMARKET_3           Yorktown   \n",
              "1981849  SUPERMARKET_3_827  SUPERMARKET  SUPERMARKET_3      Queen_Village   \n",
              "\n",
              "        store_code        region  \n",
              "0            BOS_1        Boston  \n",
              "1            BOS_2        Boston  \n",
              "2            BOS_3        Boston  \n",
              "3            NYC_1      New York  \n",
              "4            NYC_2      New York  \n",
              "...            ...           ...  \n",
              "1981845      NYC_3      New York  \n",
              "1981846      NYC_4      New York  \n",
              "1981847      PHI_1  Philadelphia  \n",
              "1981848      PHI_2  Philadelphia  \n",
              "1981849      PHI_3  Philadelphia  \n",
              "\n",
              "[1981850 rows x 11 columns]"
            ]
          },
          "execution_count": 26,
          "metadata": {},
          "output_type": "execute_result"
        }
      ],
      "source": [
        "full_df"
      ]
    },
    {
      "cell_type": "code",
      "execution_count": 27,
      "metadata": {},
      "outputs": [],
      "source": [
        "from utils.FeatureGenerator import FeatureGenerator "
      ]
    },
    {
      "cell_type": "code",
      "execution_count": 28,
      "metadata": {},
      "outputs": [
        {
          "data": {
            "text/plain": [
              "0.042558900515238446"
            ]
          },
          "execution_count": 28,
          "metadata": {},
          "output_type": "execute_result"
        }
      ],
      "source": [
        "st = time.time()\n",
        "\n",
        "gb_list = [\"date\", \"store_code\", \"region\"]\n",
        "\n",
        "fe_generator = FeatureGenerator(full_df = full_df, gb_list = gb_list)\n",
        "\n",
        "fe_generator.generate_gb_df()\n",
        "\n",
        "shop_sales_features = fe_generator.return_gb_df()\n",
        "\n",
        "shop_sales_features.drop(\"region\", axis = 1, inplace = True)\n",
        "et = time.time()\n",
        "\n",
        "(et - st)/60"
      ]
    },
    {
      "cell_type": "code",
      "execution_count": 29,
      "metadata": {},
      "outputs": [
        {
          "data": {
            "text/plain": [
              "(650, 16)"
            ]
          },
          "execution_count": 29,
          "metadata": {},
          "output_type": "execute_result"
        }
      ],
      "source": [
        "shop_sales_features.shape"
      ]
    },
    {
      "cell_type": "code",
      "execution_count": 30,
      "metadata": {},
      "outputs": [
        {
          "data": {
            "text/plain": [
              "0.013084232807159424"
            ]
          },
          "execution_count": 30,
          "metadata": {},
          "output_type": "execute_result"
        }
      ],
      "source": [
        "st = time.time()\n",
        "\n",
        "gb_list = [\"date\", \"category\"]\n",
        "\n",
        "fe_generator = FeatureGenerator(full_df = full_df, gb_list = gb_list)\n",
        "\n",
        "fe_generator.generate_gb_df()\n",
        "\n",
        "month_item_category_features = fe_generator.return_gb_df()\n",
        "\n",
        "et = time.time()\n",
        "\n",
        "(et - st)/60"
      ]
    },
    {
      "cell_type": "code",
      "execution_count": 31,
      "metadata": {},
      "outputs": [
        {
          "data": {
            "text/plain": [
              "(195, 16)"
            ]
          },
          "execution_count": 31,
          "metadata": {},
          "output_type": "execute_result"
        }
      ],
      "source": [
        "month_item_category_features.shape"
      ]
    },
    {
      "cell_type": "code",
      "execution_count": 32,
      "metadata": {},
      "outputs": [
        {
          "name": "stdout",
          "output_type": "stream",
          "text": [
            "Shape before merge is (1981850, 11)\n",
            "Shape after merge is (1981850, 39)\n"
          ]
        }
      ],
      "source": [
        "print(\"Shape before merge is {}\".format(full_df.shape))\n",
        "\n",
        "full_df = pd.merge(full_df, shop_sales_features, on = [\"date\", \"store_code\"], how = \"left\")\n",
        "full_df = pd.merge(full_df, month_item_category_features, on = [\"date\", \"category\"], how = \"left\")\n",
        "full_df.rename(columns = {\"item_cnt_day\":\"sales\"}, inplace = True)\n",
        "\n",
        "print(\"Shape after merge is {}\".format(full_df.shape))"
      ]
    },
    {
      "cell_type": "code",
      "execution_count": 33,
      "metadata": {
        "execution": {
          "iopub.execute_input": "2022-02-21T20:40:20.789885Z",
          "iopub.status.busy": "2022-02-21T20:40:20.789135Z",
          "iopub.status.idle": "2022-02-21T20:40:20.792840Z",
          "shell.execute_reply": "2022-02-21T20:40:20.793501Z",
          "shell.execute_reply.started": "2022-02-21T20:38:08.329074Z"
        },
        "id": "2f7be449",
        "papermill": {
          "duration": 0.093096,
          "end_time": "2022-02-21T20:40:20.793711",
          "exception": false,
          "start_time": "2022-02-21T20:40:20.700615",
          "status": "completed"
        },
        "tags": []
      },
      "outputs": [],
      "source": [
        "from sklearn.metrics import mean_squared_error"
      ]
    },
    {
      "cell_type": "code",
      "execution_count": 34,
      "metadata": {},
      "outputs": [],
      "source": [
        "# delete all the columns where lags features are - NA (ma3(5))\n",
        "full_df = full_df[full_df[\"date\"] > np.datetime64(\"2011-05-31\")]"
      ]
    },
    {
      "cell_type": "code",
      "execution_count": 35,
      "metadata": {
        "id": "2O3g7ZyoAi4S"
      },
      "outputs": [],
      "source": [
        "full_df['quantity']=np.clip(full_df[\"quantity\"], 0, 30)\n",
        "\n",
        "# delete all the columns where lags features are - NA (ma3(5))\n",
        "full_df = full_df[full_df[\"date\"] > np.datetime64(\"2011-05-31\")]"
      ]
    },
    {
      "cell_type": "code",
      "execution_count": 38,
      "metadata": {
        "id": "za3H1PnpDEmG"
      },
      "outputs": [
        {
          "ename": "KeyError",
          "evalue": "\"['id' 'revenue' 'item' 'category' 'department' 'store' 'store_code'\\n 'region'] not found in axis\"",
          "output_type": "error",
          "traceback": [
            "\u001b[0;31m---------------------------------------------------------------------------\u001b[0m",
            "\u001b[0;31mKeyError\u001b[0m                                  Traceback (most recent call last)",
            "\u001b[0;32m/var/folders/pt/rrqbl2q559x5dkq3bsgd3gzh0000gn/T/ipykernel_43674/3523094278.py\u001b[0m in \u001b[0;36m<module>\u001b[0;34m\u001b[0m\n\u001b[1;32m      1\u001b[0m \u001b[0mcols_to_drop\u001b[0m \u001b[0;34m=\u001b[0m \u001b[0;34m[\u001b[0m\u001b[0;34m'id'\u001b[0m\u001b[0;34m,\u001b[0m \u001b[0;34m'revenue'\u001b[0m\u001b[0;34m,\u001b[0m \u001b[0;34m'item'\u001b[0m\u001b[0;34m,\u001b[0m\u001b[0;34m'category'\u001b[0m\u001b[0;34m,\u001b[0m \u001b[0;34m'department'\u001b[0m\u001b[0;34m,\u001b[0m\u001b[0;34m'store'\u001b[0m\u001b[0;34m,\u001b[0m \u001b[0;34m'store_code'\u001b[0m\u001b[0;34m,\u001b[0m \u001b[0;34m'region'\u001b[0m\u001b[0;34m]\u001b[0m\u001b[0;34m\u001b[0m\u001b[0;34m\u001b[0m\u001b[0m\n\u001b[1;32m      2\u001b[0m \u001b[0;34m\u001b[0m\u001b[0m\n\u001b[0;32m----> 3\u001b[0;31m \u001b[0mfull_df\u001b[0m\u001b[0;34m.\u001b[0m\u001b[0mdrop\u001b[0m\u001b[0;34m(\u001b[0m\u001b[0mcols_to_drop\u001b[0m\u001b[0;34m,\u001b[0m \u001b[0minplace\u001b[0m \u001b[0;34m=\u001b[0m \u001b[0;32mTrue\u001b[0m\u001b[0;34m,\u001b[0m \u001b[0maxis\u001b[0m \u001b[0;34m=\u001b[0m \u001b[0;36m1\u001b[0m\u001b[0;34m)\u001b[0m\u001b[0;34m\u001b[0m\u001b[0;34m\u001b[0m\u001b[0m\n\u001b[0m",
            "\u001b[0;32m~/opt/anaconda3/lib/python3.9/site-packages/pandas/util/_decorators.py\u001b[0m in \u001b[0;36mwrapper\u001b[0;34m(*args, **kwargs)\u001b[0m\n\u001b[1;32m    309\u001b[0m                     \u001b[0mstacklevel\u001b[0m\u001b[0;34m=\u001b[0m\u001b[0mstacklevel\u001b[0m\u001b[0;34m,\u001b[0m\u001b[0;34m\u001b[0m\u001b[0;34m\u001b[0m\u001b[0m\n\u001b[1;32m    310\u001b[0m                 )\n\u001b[0;32m--> 311\u001b[0;31m             \u001b[0;32mreturn\u001b[0m \u001b[0mfunc\u001b[0m\u001b[0;34m(\u001b[0m\u001b[0;34m*\u001b[0m\u001b[0margs\u001b[0m\u001b[0;34m,\u001b[0m \u001b[0;34m**\u001b[0m\u001b[0mkwargs\u001b[0m\u001b[0;34m)\u001b[0m\u001b[0;34m\u001b[0m\u001b[0;34m\u001b[0m\u001b[0m\n\u001b[0m\u001b[1;32m    312\u001b[0m \u001b[0;34m\u001b[0m\u001b[0m\n\u001b[1;32m    313\u001b[0m         \u001b[0;32mreturn\u001b[0m \u001b[0mwrapper\u001b[0m\u001b[0;34m\u001b[0m\u001b[0;34m\u001b[0m\u001b[0m\n",
            "\u001b[0;32m~/opt/anaconda3/lib/python3.9/site-packages/pandas/core/frame.py\u001b[0m in \u001b[0;36mdrop\u001b[0;34m(self, labels, axis, index, columns, level, inplace, errors)\u001b[0m\n\u001b[1;32m   4904\u001b[0m                 \u001b[0mweight\u001b[0m  \u001b[0;36m1.0\u001b[0m     \u001b[0;36m0.8\u001b[0m\u001b[0;34m\u001b[0m\u001b[0;34m\u001b[0m\u001b[0m\n\u001b[1;32m   4905\u001b[0m         \"\"\"\n\u001b[0;32m-> 4906\u001b[0;31m         return super().drop(\n\u001b[0m\u001b[1;32m   4907\u001b[0m             \u001b[0mlabels\u001b[0m\u001b[0;34m=\u001b[0m\u001b[0mlabels\u001b[0m\u001b[0;34m,\u001b[0m\u001b[0;34m\u001b[0m\u001b[0;34m\u001b[0m\u001b[0m\n\u001b[1;32m   4908\u001b[0m             \u001b[0maxis\u001b[0m\u001b[0;34m=\u001b[0m\u001b[0maxis\u001b[0m\u001b[0;34m,\u001b[0m\u001b[0;34m\u001b[0m\u001b[0;34m\u001b[0m\u001b[0m\n",
            "\u001b[0;32m~/opt/anaconda3/lib/python3.9/site-packages/pandas/core/generic.py\u001b[0m in \u001b[0;36mdrop\u001b[0;34m(self, labels, axis, index, columns, level, inplace, errors)\u001b[0m\n\u001b[1;32m   4148\u001b[0m         \u001b[0;32mfor\u001b[0m \u001b[0maxis\u001b[0m\u001b[0;34m,\u001b[0m \u001b[0mlabels\u001b[0m \u001b[0;32min\u001b[0m \u001b[0maxes\u001b[0m\u001b[0;34m.\u001b[0m\u001b[0mitems\u001b[0m\u001b[0;34m(\u001b[0m\u001b[0;34m)\u001b[0m\u001b[0;34m:\u001b[0m\u001b[0;34m\u001b[0m\u001b[0;34m\u001b[0m\u001b[0m\n\u001b[1;32m   4149\u001b[0m             \u001b[0;32mif\u001b[0m \u001b[0mlabels\u001b[0m \u001b[0;32mis\u001b[0m \u001b[0;32mnot\u001b[0m \u001b[0;32mNone\u001b[0m\u001b[0;34m:\u001b[0m\u001b[0;34m\u001b[0m\u001b[0;34m\u001b[0m\u001b[0m\n\u001b[0;32m-> 4150\u001b[0;31m                 \u001b[0mobj\u001b[0m \u001b[0;34m=\u001b[0m \u001b[0mobj\u001b[0m\u001b[0;34m.\u001b[0m\u001b[0m_drop_axis\u001b[0m\u001b[0;34m(\u001b[0m\u001b[0mlabels\u001b[0m\u001b[0;34m,\u001b[0m \u001b[0maxis\u001b[0m\u001b[0;34m,\u001b[0m \u001b[0mlevel\u001b[0m\u001b[0;34m=\u001b[0m\u001b[0mlevel\u001b[0m\u001b[0;34m,\u001b[0m \u001b[0merrors\u001b[0m\u001b[0;34m=\u001b[0m\u001b[0merrors\u001b[0m\u001b[0;34m)\u001b[0m\u001b[0;34m\u001b[0m\u001b[0;34m\u001b[0m\u001b[0m\n\u001b[0m\u001b[1;32m   4151\u001b[0m \u001b[0;34m\u001b[0m\u001b[0m\n\u001b[1;32m   4152\u001b[0m         \u001b[0;32mif\u001b[0m \u001b[0minplace\u001b[0m\u001b[0;34m:\u001b[0m\u001b[0;34m\u001b[0m\u001b[0;34m\u001b[0m\u001b[0m\n",
            "\u001b[0;32m~/opt/anaconda3/lib/python3.9/site-packages/pandas/core/generic.py\u001b[0m in \u001b[0;36m_drop_axis\u001b[0;34m(self, labels, axis, level, errors)\u001b[0m\n\u001b[1;32m   4183\u001b[0m                 \u001b[0mnew_axis\u001b[0m \u001b[0;34m=\u001b[0m \u001b[0maxis\u001b[0m\u001b[0;34m.\u001b[0m\u001b[0mdrop\u001b[0m\u001b[0;34m(\u001b[0m\u001b[0mlabels\u001b[0m\u001b[0;34m,\u001b[0m \u001b[0mlevel\u001b[0m\u001b[0;34m=\u001b[0m\u001b[0mlevel\u001b[0m\u001b[0;34m,\u001b[0m \u001b[0merrors\u001b[0m\u001b[0;34m=\u001b[0m\u001b[0merrors\u001b[0m\u001b[0;34m)\u001b[0m\u001b[0;34m\u001b[0m\u001b[0;34m\u001b[0m\u001b[0m\n\u001b[1;32m   4184\u001b[0m             \u001b[0;32melse\u001b[0m\u001b[0;34m:\u001b[0m\u001b[0;34m\u001b[0m\u001b[0;34m\u001b[0m\u001b[0m\n\u001b[0;32m-> 4185\u001b[0;31m                 \u001b[0mnew_axis\u001b[0m \u001b[0;34m=\u001b[0m \u001b[0maxis\u001b[0m\u001b[0;34m.\u001b[0m\u001b[0mdrop\u001b[0m\u001b[0;34m(\u001b[0m\u001b[0mlabels\u001b[0m\u001b[0;34m,\u001b[0m \u001b[0merrors\u001b[0m\u001b[0;34m=\u001b[0m\u001b[0merrors\u001b[0m\u001b[0;34m)\u001b[0m\u001b[0;34m\u001b[0m\u001b[0;34m\u001b[0m\u001b[0m\n\u001b[0m\u001b[1;32m   4186\u001b[0m             \u001b[0mresult\u001b[0m \u001b[0;34m=\u001b[0m \u001b[0mself\u001b[0m\u001b[0;34m.\u001b[0m\u001b[0mreindex\u001b[0m\u001b[0;34m(\u001b[0m\u001b[0;34m**\u001b[0m\u001b[0;34m{\u001b[0m\u001b[0maxis_name\u001b[0m\u001b[0;34m:\u001b[0m \u001b[0mnew_axis\u001b[0m\u001b[0;34m}\u001b[0m\u001b[0;34m)\u001b[0m\u001b[0;34m\u001b[0m\u001b[0;34m\u001b[0m\u001b[0m\n\u001b[1;32m   4187\u001b[0m \u001b[0;34m\u001b[0m\u001b[0m\n",
            "\u001b[0;32m~/opt/anaconda3/lib/python3.9/site-packages/pandas/core/indexes/base.py\u001b[0m in \u001b[0;36mdrop\u001b[0;34m(self, labels, errors)\u001b[0m\n\u001b[1;32m   6015\u001b[0m         \u001b[0;32mif\u001b[0m \u001b[0mmask\u001b[0m\u001b[0;34m.\u001b[0m\u001b[0many\u001b[0m\u001b[0;34m(\u001b[0m\u001b[0;34m)\u001b[0m\u001b[0;34m:\u001b[0m\u001b[0;34m\u001b[0m\u001b[0;34m\u001b[0m\u001b[0m\n\u001b[1;32m   6016\u001b[0m             \u001b[0;32mif\u001b[0m \u001b[0merrors\u001b[0m \u001b[0;34m!=\u001b[0m \u001b[0;34m\"ignore\"\u001b[0m\u001b[0;34m:\u001b[0m\u001b[0;34m\u001b[0m\u001b[0;34m\u001b[0m\u001b[0m\n\u001b[0;32m-> 6017\u001b[0;31m                 \u001b[0;32mraise\u001b[0m \u001b[0mKeyError\u001b[0m\u001b[0;34m(\u001b[0m\u001b[0;34mf\"{labels[mask]} not found in axis\"\u001b[0m\u001b[0;34m)\u001b[0m\u001b[0;34m\u001b[0m\u001b[0;34m\u001b[0m\u001b[0m\n\u001b[0m\u001b[1;32m   6018\u001b[0m             \u001b[0mindexer\u001b[0m \u001b[0;34m=\u001b[0m \u001b[0mindexer\u001b[0m\u001b[0;34m[\u001b[0m\u001b[0;34m~\u001b[0m\u001b[0mmask\u001b[0m\u001b[0;34m]\u001b[0m\u001b[0;34m\u001b[0m\u001b[0;34m\u001b[0m\u001b[0m\n\u001b[1;32m   6019\u001b[0m         \u001b[0;32mreturn\u001b[0m \u001b[0mself\u001b[0m\u001b[0;34m.\u001b[0m\u001b[0mdelete\u001b[0m\u001b[0;34m(\u001b[0m\u001b[0mindexer\u001b[0m\u001b[0;34m)\u001b[0m\u001b[0;34m\u001b[0m\u001b[0;34m\u001b[0m\u001b[0m\n",
            "\u001b[0;31mKeyError\u001b[0m: \"['id' 'revenue' 'item' 'category' 'department' 'store' 'store_code'\\n 'region'] not found in axis\""
          ]
        }
      ],
      "source": [
        "cols_to_drop = ['id', 'revenue', 'item','category', 'department','store', 'store_code', 'region']\n",
        "\n",
        "full_df.drop(cols_to_drop, inplace = True, axis = 1)"
      ]
    },
    {
      "cell_type": "code",
      "execution_count": 39,
      "metadata": {},
      "outputs": [],
      "source": [
        "train_index = sorted(list(full_df[\"date\"].unique()))[:-2]\n",
        "\n",
        "valida_index = [sorted(list(full_df[\"date\"].unique()))[-2]]\n",
        "\n",
        "test_index = [sorted(list(full_df[\"date\"].unique()))[-1]]"
      ]
    },
    {
      "cell_type": "code",
      "execution_count": 40,
      "metadata": {},
      "outputs": [],
      "source": [
        "X_train = full_df[full_df[\"date\"].isin(train_index)].drop(['quantity','date'], axis=1)\n",
        "Y_train = full_df[full_df[\"date\"].isin(train_index)]['quantity']\n",
        "\n",
        "X_valida = full_df[full_df[\"date\"].isin(valida_index)].drop(['quantity','date'], axis=1)\n",
        "Y_valida = full_df[full_df[\"date\"].isin(valida_index)]['quantity']\n",
        "\n",
        "X_test = full_df[full_df[\"date\"].isin(test_index)].drop(['quantity','date'], axis = 1)\n",
        "Y_test = full_df[full_df[\"date\"].isin(test_index)]['quantity']"
      ]
    },
    {
      "cell_type": "markdown",
      "metadata": {
        "id": "CiIMDMX5wNVu"
      },
      "source": [
        "#Modelo"
      ]
    },
    {
      "cell_type": "code",
      "execution_count": 39,
      "metadata": {
        "colab": {
          "base_uri": "https://localhost:8080/"
        },
        "id": "23XKRpumwxzt",
        "outputId": "fd9aa609-2e7c-4c7b-b412-6e2c40a1ef62"
      },
      "outputs": [
        {
          "ename": "Error",
          "evalue": "Canceled future for execute_request message before replies were done",
          "output_type": "error",
          "traceback": [
            "Error: Canceled future for execute_request message before replies were done",
            "at t.KernelShellFutureHandler.dispose (/Users/artur/.vscode/extensions/ms-toolsai.jupyter-2022.3.1000901801/out/extension.js:2:1204175)",
            "at /Users/artur/.vscode/extensions/ms-toolsai.jupyter-2022.3.1000901801/out/extension.js:2:1223227",
            "at Map.forEach (<anonymous>)",
            "at v._clearKernelState (/Users/artur/.vscode/extensions/ms-toolsai.jupyter-2022.3.1000901801/out/extension.js:2:1223212)",
            "at v.dispose (/Users/artur/.vscode/extensions/ms-toolsai.jupyter-2022.3.1000901801/out/extension.js:2:1216694)",
            "at /Users/artur/.vscode/extensions/ms-toolsai.jupyter-2022.3.1000901801/out/extension.js:2:533674",
            "at t.swallowExceptions (/Users/artur/.vscode/extensions/ms-toolsai.jupyter-2022.3.1000901801/out/extension.js:2:913059)",
            "at dispose (/Users/artur/.vscode/extensions/ms-toolsai.jupyter-2022.3.1000901801/out/extension.js:2:533652)",
            "at t.RawSession.dispose (/Users/artur/.vscode/extensions/ms-toolsai.jupyter-2022.3.1000901801/out/extension.js:2:537330)",
            "at runMicrotasks (<anonymous>)",
            "at processTicksAndRejections (node:internal/process/task_queues:96:5)"
          ]
        }
      ],
      "source": [
        "st = time.time()\n",
        "\n",
        "model = XGBRegressor(seed = 175)\n",
        "\n",
        "model_name = str(model).split(\"(\")[0]\n",
        "\n",
        "day = str(datetime.now()).split()[0].replace(\"-\", \"_\")\n",
        "hour = str(datetime.now()).split()[1].replace(\":\", \"_\").split(\".\")[0]\n",
        "t = str(day) + \"_\" + str(hour)\n",
        "\n",
        "model.fit(X_train, Y_train, eval_metric = \"rmse\", \n",
        "    eval_set = [(X_train, Y_train), (X_valida, Y_valida)], \n",
        "    verbose = True, \n",
        "    early_stopping_rounds = 10)\n",
        "\n",
        "et = time.time()\n",
        "\n",
        "print(\"Training took {} minutes!\".format((et - st)/60))"
      ]
    },
    {
      "cell_type": "code",
      "execution_count": null,
      "metadata": {
        "colab": {
          "base_uri": "https://localhost:8080/",
          "height": 893
        },
        "id": "L6A9bJk8xPTK",
        "outputId": "9af9508f-0cd2-42e3-ff46-8dcced0c64ca"
      },
      "outputs": [
        {
          "data": {
            "image/png": "[encoded data removed]",
            "text/plain": [
              "<Figure size 720x1080 with 1 Axes>"
            ]
          },
          "metadata": {
            "needs_background": "light"
          },
          "output_type": "display_data"
        }
      ],
      "source": [
        "importance = model.get_booster().get_score(importance_type = \"gain\")\n",
        "importance = {k: v for k, v in sorted(importance.items(), key = lambda item: item[1])}\n",
        "\n",
        "fig, ax = plt.subplots(figsize = (10, 15))\n",
        "plot_importance(model, importance_type = \"gain\", ax = ax);"
      ]
    },
    {
      "cell_type": "code",
      "execution_count": null,
      "metadata": {
        "colab": {
          "base_uri": "https://localhost:8080/"
        },
        "id": "9DGdnUH62-oY",
        "outputId": "d59ae306-ff8c-4b3e-e4dc-afe225703bb9"
      },
      "outputs": [
        {
          "data": {
            "text/plain": [
              "10.36432908511652"
            ]
          },
          "execution_count": 152,
          "metadata": {},
          "output_type": "execute_result"
        }
      ],
      "source": [
        "Y_valida_pred = model.predict(X_valida)\n",
        "\n",
        "rmse_valida = sqrt(metrics.mean_squared_error(Y_valida, Y_valida_pred))\n",
        "rmse_valida"
      ]
    },
    {
      "cell_type": "code",
      "execution_count": null,
      "metadata": {
        "colab": {
          "base_uri": "https://localhost:8080/",
          "height": 423
        },
        "id": "msTd-2a9tE7C",
        "outputId": "d9920b52-fd65-40a8-8a86-7da888d5c901"
      },
      "outputs": [
        {
          "data": {
            "text/html": [
              "\n",
              "  <div id=\"df-f69e25d8-1c19-4e32-9db4-e3b8df5c0a4b\">\n",
              "    <div class=\"colab-df-container\">\n",
              "      <div>\n",
              "<style scoped>\n",
              "    .dataframe tbody tr th:only-of-type {\n",
              "        vertical-align: middle;\n",
              "    }\n",
              "\n",
              "    .dataframe tbody tr th {\n",
              "        vertical-align: top;\n",
              "    }\n",
              "\n",
              "    .dataframe thead th {\n",
              "        text-align: right;\n",
              "    }\n",
              "</style>\n",
              "<table border=\"1\" class=\"dataframe\">\n",
              "  <thead>\n",
              "    <tr style=\"text-align: right;\">\n",
              "      <th></th>\n",
              "      <th>quantity</th>\n",
              "    </tr>\n",
              "  </thead>\n",
              "  <tbody>\n",
              "    <tr>\n",
              "      <th>0</th>\n",
              "      <td>11.047896</td>\n",
              "    </tr>\n",
              "    <tr>\n",
              "      <th>1</th>\n",
              "      <td>11.047896</td>\n",
              "    </tr>\n",
              "    <tr>\n",
              "      <th>2</th>\n",
              "      <td>11.047896</td>\n",
              "    </tr>\n",
              "    <tr>\n",
              "      <th>3</th>\n",
              "      <td>13.426202</td>\n",
              "    </tr>\n",
              "    <tr>\n",
              "      <th>4</th>\n",
              "      <td>13.426202</td>\n",
              "    </tr>\n",
              "    <tr>\n",
              "      <th>...</th>\n",
              "      <td>...</td>\n",
              "    </tr>\n",
              "    <tr>\n",
              "      <th>30485</th>\n",
              "      <td>23.513456</td>\n",
              "    </tr>\n",
              "    <tr>\n",
              "      <th>30486</th>\n",
              "      <td>23.513456</td>\n",
              "    </tr>\n",
              "    <tr>\n",
              "      <th>30487</th>\n",
              "      <td>21.764585</td>\n",
              "    </tr>\n",
              "    <tr>\n",
              "      <th>30488</th>\n",
              "      <td>21.764585</td>\n",
              "    </tr>\n",
              "    <tr>\n",
              "      <th>30489</th>\n",
              "      <td>21.764585</td>\n",
              "    </tr>\n",
              "  </tbody>\n",
              "</table>\n",
              "<p>30490 rows × 1 columns</p>\n",
              "</div>\n",
              "      <button class=\"colab-df-convert\" onclick=\"convertToInteractive('df-f69e25d8-1c19-4e32-9db4-e3b8df5c0a4b')\"\n",
              "              title=\"Convert this dataframe to an interactive table.\"\n",
              "              style=\"display:none;\">\n",
              "        \n",
              "  <svg xmlns=\"http://www.w3.org/2000/svg\" height=\"24px\"viewBox=\"0 0 24 24\"\n",
              "       width=\"24px\">\n",
              "    <path d=\"M0 0h24v24H0V0z\" fill=\"none\"/>\n",
              "    <path d=\"M18.56 5.44l.94 2.06.94-2.06 2.06-.94-2.06-.94-.94-2.06-.94 2.06-2.06.94zm-11 1L8.5 8.5l.94-2.06 2.06-.94-2.06-.94L8.5 2.5l-.94 2.06-2.06.94zm10 10l.94 2.06.94-2.06 2.06-.94-2.06-.94-.94-2.06-.94 2.06-2.06.94z\"/><path d=\"M17.41 7.96l-1.37-1.37c-.4-.4-.92-.59-1.43-.59-.52 0-1.04.2-1.43.59L10.3 9.45l-7.72 7.72c-.78.78-.78 2.05 0 2.83L4 21.41c.39.39.9.59 1.41.59.51 0 1.02-.2 1.41-.59l7.78-7.78 2.81-2.81c.8-.78.8-2.07 0-2.86zM5.41 20L4 18.59l7.72-7.72 1.47 1.35L5.41 20z\"/>\n",
              "  </svg>\n",
              "      </button>\n",
              "      \n",
              "  <style>\n",
              "    .colab-df-container {\n",
              "      display:flex;\n",
              "      flex-wrap:wrap;\n",
              "      gap: 12px;\n",
              "    }\n",
              "\n",
              "    .colab-df-convert {\n",
              "      background-color: #E8F0FE;\n",
              "      border: none;\n",
              "      border-radius: 50%;\n",
              "      cursor: pointer;\n",
              "      display: none;\n",
              "      fill: #1967D2;\n",
              "      height: 32px;\n",
              "      padding: 0 0 0 0;\n",
              "      width: 32px;\n",
              "    }\n",
              "\n",
              "    .colab-df-convert:hover {\n",
              "      background-color: #E2EBFA;\n",
              "      box-shadow: 0px 1px 2px rgba(60, 64, 67, 0.3), 0px 1px 3px 1px rgba(60, 64, 67, 0.15);\n",
              "      fill: #174EA6;\n",
              "    }\n",
              "\n",
              "    [theme=dark] .colab-df-convert {\n",
              "      background-color: #3B4455;\n",
              "      fill: #D2E3FC;\n",
              "    }\n",
              "\n",
              "    [theme=dark] .colab-df-convert:hover {\n",
              "      background-color: #434B5C;\n",
              "      box-shadow: 0px 1px 3px 1px rgba(0, 0, 0, 0.15);\n",
              "      filter: drop-shadow(0px 1px 2px rgba(0, 0, 0, 0.3));\n",
              "      fill: #FFFFFF;\n",
              "    }\n",
              "  </style>\n",
              "\n",
              "      <script>\n",
              "        const buttonEl =\n",
              "          document.querySelector('#df-f69e25d8-1c19-4e32-9db4-e3b8df5c0a4b button.colab-df-convert');\n",
              "        buttonEl.style.display =\n",
              "          google.colab.kernel.accessAllowed ? 'block' : 'none';\n",
              "\n",
              "        async function convertToInteractive(key) {\n",
              "          const element = document.querySelector('#df-f69e25d8-1c19-4e32-9db4-e3b8df5c0a4b');\n",
              "          const dataTable =\n",
              "            await google.colab.kernel.invokeFunction('convertToInteractive',\n",
              "                                                     [key], {});\n",
              "          if (!dataTable) return;\n",
              "\n",
              "          const docLinkHtml = 'Like what you see? Visit the ' +\n",
              "            '<a target=\"_blank\" href=https://colab.research.google.com/notebooks/data_table.ipynb>data table notebook</a>'\n",
              "            + ' to learn more about interactive tables.';\n",
              "          element.innerHTML = '';\n",
              "          dataTable['output_type'] = 'display_data';\n",
              "          await google.colab.output.renderOutput(dataTable, element);\n",
              "          const docLink = document.createElement('div');\n",
              "          docLink.innerHTML = docLinkHtml;\n",
              "          element.appendChild(docLink);\n",
              "        }\n",
              "      </script>\n",
              "    </div>\n",
              "  </div>\n",
              "  "
            ],
            "text/plain": [
              "        quantity\n",
              "0      11.047896\n",
              "1      11.047896\n",
              "2      11.047896\n",
              "3      13.426202\n",
              "4      13.426202\n",
              "...          ...\n",
              "30485  23.513456\n",
              "30486  23.513456\n",
              "30487  21.764585\n",
              "30488  21.764585\n",
              "30489  21.764585\n",
              "\n",
              "[30490 rows x 1 columns]"
            ]
          },
          "execution_count": 153,
          "metadata": {},
          "output_type": "execute_result"
        }
      ],
      "source": [
        "Y_valida_pred=pd.DataFrame(Y_valida_pred).rename(columns={0:'quantity'})\n",
        "Y_valida_pred"
      ]
    },
    {
      "cell_type": "code",
      "execution_count": null,
      "metadata": {
        "colab": {
          "base_uri": "https://localhost:8080/",
          "height": 423
        },
        "id": "QEM6l7-QvHwh",
        "outputId": "2b54fc80-d48e-4ccb-dfa5-85a961f378cd"
      },
      "outputs": [
        {
          "data": {
            "text/html": [
              "\n",
              "  <div id=\"df-de4e489a-2948-44a0-9316-f0f9e2255b38\">\n",
              "    <div class=\"colab-df-container\">\n",
              "      <div>\n",
              "<style scoped>\n",
              "    .dataframe tbody tr th:only-of-type {\n",
              "        vertical-align: middle;\n",
              "    }\n",
              "\n",
              "    .dataframe tbody tr th {\n",
              "        vertical-align: top;\n",
              "    }\n",
              "\n",
              "    .dataframe thead th {\n",
              "        text-align: right;\n",
              "    }\n",
              "</style>\n",
              "<table border=\"1\" class=\"dataframe\">\n",
              "  <thead>\n",
              "    <tr style=\"text-align: right;\">\n",
              "      <th></th>\n",
              "      <th>quantity</th>\n",
              "    </tr>\n",
              "  </thead>\n",
              "  <tbody>\n",
              "    <tr>\n",
              "      <th>1951360</th>\n",
              "      <td>10.0</td>\n",
              "    </tr>\n",
              "    <tr>\n",
              "      <th>1951361</th>\n",
              "      <td>8.0</td>\n",
              "    </tr>\n",
              "    <tr>\n",
              "      <th>1951362</th>\n",
              "      <td>9.0</td>\n",
              "    </tr>\n",
              "    <tr>\n",
              "      <th>1951363</th>\n",
              "      <td>27.0</td>\n",
              "    </tr>\n",
              "    <tr>\n",
              "      <th>1951364</th>\n",
              "      <td>21.0</td>\n",
              "    </tr>\n",
              "    <tr>\n",
              "      <th>...</th>\n",
              "      <td>...</td>\n",
              "    </tr>\n",
              "    <tr>\n",
              "      <th>1981845</th>\n",
              "      <td>30.0</td>\n",
              "    </tr>\n",
              "    <tr>\n",
              "      <th>1981846</th>\n",
              "      <td>30.0</td>\n",
              "    </tr>\n",
              "    <tr>\n",
              "      <th>1981847</th>\n",
              "      <td>30.0</td>\n",
              "    </tr>\n",
              "    <tr>\n",
              "      <th>1981848</th>\n",
              "      <td>30.0</td>\n",
              "    </tr>\n",
              "    <tr>\n",
              "      <th>1981849</th>\n",
              "      <td>30.0</td>\n",
              "    </tr>\n",
              "  </tbody>\n",
              "</table>\n",
              "<p>30490 rows × 1 columns</p>\n",
              "</div>\n",
              "      <button class=\"colab-df-convert\" onclick=\"convertToInteractive('df-de4e489a-2948-44a0-9316-f0f9e2255b38')\"\n",
              "              title=\"Convert this dataframe to an interactive table.\"\n",
              "              style=\"display:none;\">\n",
              "        \n",
              "  <svg xmlns=\"http://www.w3.org/2000/svg\" height=\"24px\"viewBox=\"0 0 24 24\"\n",
              "       width=\"24px\">\n",
              "    <path d=\"M0 0h24v24H0V0z\" fill=\"none\"/>\n",
              "    <path d=\"M18.56 5.44l.94 2.06.94-2.06 2.06-.94-2.06-.94-.94-2.06-.94 2.06-2.06.94zm-11 1L8.5 8.5l.94-2.06 2.06-.94-2.06-.94L8.5 2.5l-.94 2.06-2.06.94zm10 10l.94 2.06.94-2.06 2.06-.94-2.06-.94-.94-2.06-.94 2.06-2.06.94z\"/><path d=\"M17.41 7.96l-1.37-1.37c-.4-.4-.92-.59-1.43-.59-.52 0-1.04.2-1.43.59L10.3 9.45l-7.72 7.72c-.78.78-.78 2.05 0 2.83L4 21.41c.39.39.9.59 1.41.59.51 0 1.02-.2 1.41-.59l7.78-7.78 2.81-2.81c.8-.78.8-2.07 0-2.86zM5.41 20L4 18.59l7.72-7.72 1.47 1.35L5.41 20z\"/>\n",
              "  </svg>\n",
              "      </button>\n",
              "      \n",
              "  <style>\n",
              "    .colab-df-container {\n",
              "      display:flex;\n",
              "      flex-wrap:wrap;\n",
              "      gap: 12px;\n",
              "    }\n",
              "\n",
              "    .colab-df-convert {\n",
              "      background-color: #E8F0FE;\n",
              "      border: none;\n",
              "      border-radius: 50%;\n",
              "      cursor: pointer;\n",
              "      display: none;\n",
              "      fill: #1967D2;\n",
              "      height: 32px;\n",
              "      padding: 0 0 0 0;\n",
              "      width: 32px;\n",
              "    }\n",
              "\n",
              "    .colab-df-convert:hover {\n",
              "      background-color: #E2EBFA;\n",
              "      box-shadow: 0px 1px 2px rgba(60, 64, 67, 0.3), 0px 1px 3px 1px rgba(60, 64, 67, 0.15);\n",
              "      fill: #174EA6;\n",
              "    }\n",
              "\n",
              "    [theme=dark] .colab-df-convert {\n",
              "      background-color: #3B4455;\n",
              "      fill: #D2E3FC;\n",
              "    }\n",
              "\n",
              "    [theme=dark] .colab-df-convert:hover {\n",
              "      background-color: #434B5C;\n",
              "      box-shadow: 0px 1px 3px 1px rgba(0, 0, 0, 0.15);\n",
              "      filter: drop-shadow(0px 1px 2px rgba(0, 0, 0, 0.3));\n",
              "      fill: #FFFFFF;\n",
              "    }\n",
              "  </style>\n",
              "\n",
              "      <script>\n",
              "        const buttonEl =\n",
              "          document.querySelector('#df-de4e489a-2948-44a0-9316-f0f9e2255b38 button.colab-df-convert');\n",
              "        buttonEl.style.display =\n",
              "          google.colab.kernel.accessAllowed ? 'block' : 'none';\n",
              "\n",
              "        async function convertToInteractive(key) {\n",
              "          const element = document.querySelector('#df-de4e489a-2948-44a0-9316-f0f9e2255b38');\n",
              "          const dataTable =\n",
              "            await google.colab.kernel.invokeFunction('convertToInteractive',\n",
              "                                                     [key], {});\n",
              "          if (!dataTable) return;\n",
              "\n",
              "          const docLinkHtml = 'Like what you see? Visit the ' +\n",
              "            '<a target=\"_blank\" href=https://colab.research.google.com/notebooks/data_table.ipynb>data table notebook</a>'\n",
              "            + ' to learn more about interactive tables.';\n",
              "          element.innerHTML = '';\n",
              "          dataTable['output_type'] = 'display_data';\n",
              "          await google.colab.output.renderOutput(dataTable, element);\n",
              "          const docLink = document.createElement('div');\n",
              "          docLink.innerHTML = docLinkHtml;\n",
              "          element.appendChild(docLink);\n",
              "        }\n",
              "      </script>\n",
              "    </div>\n",
              "  </div>\n",
              "  "
            ],
            "text/plain": [
              "         quantity\n",
              "1951360      10.0\n",
              "1951361       8.0\n",
              "1951362       9.0\n",
              "1951363      27.0\n",
              "1951364      21.0\n",
              "...           ...\n",
              "1981845      30.0\n",
              "1981846      30.0\n",
              "1981847      30.0\n",
              "1981848      30.0\n",
              "1981849      30.0\n",
              "\n",
              "[30490 rows x 1 columns]"
            ]
          },
          "execution_count": 155,
          "metadata": {},
          "output_type": "execute_result"
        }
      ],
      "source": [
        "Y_test=pd.DataFrame(Y_test).rename(columns={0:'quantity'})\n",
        "Y_test"
      ]
    },
    {
      "cell_type": "code",
      "execution_count": null,
      "metadata": {
        "colab": {
          "base_uri": "https://localhost:8080/"
        },
        "id": "4cWS9Cumv8SJ",
        "outputId": "1ed4c0c9-f35c-4243-8677-aca1f424bbcc"
      },
      "outputs": [
        {
          "data": {
            "text/plain": [
              "152450      0.0\n",
              "152451      0.0\n",
              "152452      0.0\n",
              "152453      0.0\n",
              "152454      0.0\n",
              "           ... \n",
              "1920865    30.0\n",
              "1920866    24.0\n",
              "1920867    30.0\n",
              "1920868    30.0\n",
              "1920869    30.0\n",
              "Name: quantity, Length: 1768420, dtype: float64"
            ]
          },
          "execution_count": 156,
          "metadata": {},
          "output_type": "execute_result"
        }
      ],
      "source": [
        "Y_train"
      ]
    },
    {
      "cell_type": "code",
      "execution_count": null,
      "metadata": {
        "id": "EkGvj2ekKxFe"
      },
      "outputs": [],
      "source": []
    }
  ],
  "metadata": {
    "colab": {
      "include_colab_link": true,
      "name": "TimeSeries.ipynb",
      "provenance": []
    },
    "kernelspec": {
      "display_name": "Python 3",
      "name": "python3"
    },
    "language_info": {
      "codemirror_mode": {
        "name": "ipython",
        "version": 3
      },
      "file_extension": ".py",
      "mimetype": "text/x-python",
      "name": "python",
      "nbconvert_exporter": "python",
      "pygments_lexer": "ipython3",
      "version": "3.9.7"
    }
  },
  "nbformat": 4,
  "nbformat_minor": 0
}
